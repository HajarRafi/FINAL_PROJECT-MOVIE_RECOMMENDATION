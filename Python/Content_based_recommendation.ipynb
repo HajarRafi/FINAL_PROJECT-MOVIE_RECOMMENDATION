{
 "cells": [
  {
   "cell_type": "markdown",
   "id": "60b0931d",
   "metadata": {},
   "source": [
    "# Importing libraries and data"
   ]
  },
  {
   "cell_type": "code",
   "execution_count": 50,
   "id": "13aed8c0",
   "metadata": {},
   "outputs": [
    {
     "data": {
      "text/plain": [
       "(15297, 25)"
      ]
     },
     "execution_count": 50,
     "metadata": {},
     "output_type": "execute_result"
    }
   ],
   "source": [
    "import pandas as pd\n",
    "import warnings\n",
    "warnings.filterwarnings(\"ignore\")\n",
    "\n",
    "\n",
    "# Use hstack to concat two sparse matrices\n",
    "from scipy.sparse import hstack\n",
    "\n",
    "# Import linear_kernel\n",
    "from sklearn.metrics.pairwise import linear_kernel as kernel\n",
    "\n",
    "movies = pd.read_csv('movies_metadata.csv',index_col=[0] ).reset_index()\n",
    "movies = movies[movies.vote_count > 20].reset_index(drop=True)\n",
    "movies['id'] = movies.id.astype(int)\n",
    "movies = movies.rename(columns={'id': 'movie_id'})\n",
    "\n",
    "keywords = pd.read_csv('keywords_new.csv.zip')\n",
    "keywords.drop_duplicates(inplace=True)\n",
    "\n",
    "# Rename id column to movie_id, and set it as index\n",
    "keywords = keywords.rename(columns={'id': 'movie_id'})\n",
    "\n",
    "# Merge 'movies' and 'keywords' tables on 'movie_id'\n",
    "movies = pd.merge(movies, keywords, on = 'movie_id')\n",
    "movies.shape"
   ]
  },
  {
   "cell_type": "code",
   "execution_count": 51,
   "id": "53b02496",
   "metadata": {},
   "outputs": [
    {
     "data": {
      "text/html": [
       "<div>\n",
       "<style scoped>\n",
       "    .dataframe tbody tr th:only-of-type {\n",
       "        vertical-align: middle;\n",
       "    }\n",
       "\n",
       "    .dataframe tbody tr th {\n",
       "        vertical-align: top;\n",
       "    }\n",
       "\n",
       "    .dataframe thead th {\n",
       "        text-align: right;\n",
       "    }\n",
       "</style>\n",
       "<table border=\"1\" class=\"dataframe\">\n",
       "  <thead>\n",
       "    <tr style=\"text-align: right;\">\n",
       "      <th></th>\n",
       "      <th>movie_id</th>\n",
       "      <th>keywords</th>\n",
       "    </tr>\n",
       "  </thead>\n",
       "  <tbody>\n",
       "    <tr>\n",
       "      <th>0</th>\n",
       "      <td>862</td>\n",
       "      <td>[{'id': 931, 'name': 'jealousy'}, {'id': 4290,...</td>\n",
       "    </tr>\n",
       "    <tr>\n",
       "      <th>1</th>\n",
       "      <td>8844</td>\n",
       "      <td>[{'id': 10090, 'name': 'board game'}, {'id': 1...</td>\n",
       "    </tr>\n",
       "    <tr>\n",
       "      <th>2</th>\n",
       "      <td>15602</td>\n",
       "      <td>[{'id': 1495, 'name': 'fishing'}, {'id': 12392...</td>\n",
       "    </tr>\n",
       "    <tr>\n",
       "      <th>3</th>\n",
       "      <td>31357</td>\n",
       "      <td>[{'id': 818, 'name': 'based on novel'}, {'id':...</td>\n",
       "    </tr>\n",
       "    <tr>\n",
       "      <th>4</th>\n",
       "      <td>11862</td>\n",
       "      <td>[{'id': 1009, 'name': 'baby'}, {'id': 1599, 'n...</td>\n",
       "    </tr>\n",
       "    <tr>\n",
       "      <th>...</th>\n",
       "      <td>...</td>\n",
       "      <td>...</td>\n",
       "    </tr>\n",
       "    <tr>\n",
       "      <th>46414</th>\n",
       "      <td>439050</td>\n",
       "      <td>[{'id': 10703, 'name': 'tragic love'}]</td>\n",
       "    </tr>\n",
       "    <tr>\n",
       "      <th>46415</th>\n",
       "      <td>111109</td>\n",
       "      <td>[{'id': 2679, 'name': 'artist'}, {'id': 14531,...</td>\n",
       "    </tr>\n",
       "    <tr>\n",
       "      <th>46416</th>\n",
       "      <td>67758</td>\n",
       "      <td>[]</td>\n",
       "    </tr>\n",
       "    <tr>\n",
       "      <th>46417</th>\n",
       "      <td>227506</td>\n",
       "      <td>[]</td>\n",
       "    </tr>\n",
       "    <tr>\n",
       "      <th>46418</th>\n",
       "      <td>461257</td>\n",
       "      <td>[]</td>\n",
       "    </tr>\n",
       "  </tbody>\n",
       "</table>\n",
       "<p>45432 rows × 2 columns</p>\n",
       "</div>"
      ],
      "text/plain": [
       "       movie_id                                           keywords\n",
       "0           862  [{'id': 931, 'name': 'jealousy'}, {'id': 4290,...\n",
       "1          8844  [{'id': 10090, 'name': 'board game'}, {'id': 1...\n",
       "2         15602  [{'id': 1495, 'name': 'fishing'}, {'id': 12392...\n",
       "3         31357  [{'id': 818, 'name': 'based on novel'}, {'id':...\n",
       "4         11862  [{'id': 1009, 'name': 'baby'}, {'id': 1599, 'n...\n",
       "...         ...                                                ...\n",
       "46414    439050             [{'id': 10703, 'name': 'tragic love'}]\n",
       "46415    111109  [{'id': 2679, 'name': 'artist'}, {'id': 14531,...\n",
       "46416     67758                                                 []\n",
       "46417    227506                                                 []\n",
       "46418    461257                                                 []\n",
       "\n",
       "[45432 rows x 2 columns]"
      ]
     },
     "execution_count": 51,
     "metadata": {},
     "output_type": "execute_result"
    }
   ],
   "source": [
    "keywords"
   ]
  },
  {
   "cell_type": "code",
   "execution_count": 57,
   "id": "699550ca",
   "metadata": {},
   "outputs": [
    {
     "data": {
      "text/plain": [
       "\"[{'id': 931, 'name': 'jealousy'}, {'id': 4290, 'name': 'toy'}, {'id': 5202, 'name': 'boy'}, {'id': 6054, 'name': 'friendship'}, {'id': 9713, 'name': 'friends'}, {'id': 9823, 'name': 'rivalry'}, {'id': 165503, 'name': 'boy next door'}, {'id': 170722, 'name': 'new toy'}, {'id': 187065, 'name': 'toy comes to life'}]\""
      ]
     },
     "execution_count": 57,
     "metadata": {},
     "output_type": "execute_result"
    }
   ],
   "source": [
    "keywords.keywords[0]"
   ]
  },
  {
   "cell_type": "markdown",
   "id": "b346a7e5",
   "metadata": {},
   "source": [
    "# Content Based Recommendation"
   ]
  },
  {
   "cell_type": "code",
   "execution_count": 17,
   "id": "ba6c0196",
   "metadata": {},
   "outputs": [
    {
     "data": {
      "text/plain": [
       "(15297, 38911)"
      ]
     },
     "execution_count": 17,
     "metadata": {},
     "output_type": "execute_result"
    }
   ],
   "source": [
    "from sklearn.feature_extraction.text import TfidfVectorizer\n",
    "\n",
    "#Define a TF-IDF Vectorizer Object. Remove all english stop words such as 'the', 'a','and'\n",
    "tfidf = TfidfVectorizer(stop_words='english')\n",
    "\n",
    "#Replace NaN with an empty string\n",
    "movies['overview'] = movies['overview'].fillna('')\n",
    "\n",
    "tfidf_overview = tfidf.fit_transform(movies['overview'])\n",
    "tfidf_overview.shape"
   ]
  },
  {
   "cell_type": "code",
   "execution_count": 18,
   "id": "352fa1e8",
   "metadata": {},
   "outputs": [],
   "source": [
    "# cosine_sim = kernel(tfidf_overview, tfidf_overview)"
   ]
  },
  {
   "cell_type": "markdown",
   "id": "7a202eca",
   "metadata": {},
   "source": [
    "## Applying KNN "
   ]
  },
  {
   "cell_type": "code",
   "execution_count": 19,
   "id": "59f81838",
   "metadata": {},
   "outputs": [],
   "source": [
    "# from sklearn.neighbors import NearestNeighbors\n",
    "\n",
    "# knn = NearestNeighbors(n_neighbors=10, algorithm='brute')\n",
    "\n",
    "# knn.fit(tfidf_matrix)\n",
    "\n",
    "# movies[movies.title=='The Godfather']\n",
    "\n",
    "# knn.kneighbors(tfidf_matrix[544], 10, return_distance=False)\n",
    "\n",
    "# movies.loc[15159]"
   ]
  },
  {
   "cell_type": "code",
   "execution_count": 20,
   "id": "7b8951e2",
   "metadata": {},
   "outputs": [],
   "source": [
    "#Construct a reverse map of indices and movie titles\n",
    "\n",
    "indices = pd.Series(movies.index, index=movies['title']).drop_duplicates()\n",
    "\n",
    "# Function that takes in movie title as input and outputs most similar movies\n",
    "def get_recommendations(title, cosine_sim):\n",
    "    \n",
    "    # Get the index of the movie that matches the title\n",
    "    idx = indices[title]\n",
    "    \n",
    "    # If there are multiple movies with the same title then take the first one\n",
    "    if isinstance(idx, pd.Series):\n",
    "        idx = idx[0]\n",
    "\n",
    "    # Get the pairwise similarity scores of all movies with that movie\n",
    "    sim_scores = list(enumerate(cosine_sim[idx]))\n",
    "\n",
    "    # Sort the movies based on the similarity scores\n",
    "    sim_scores = sorted(sim_scores, key=lambda x: x[1], reverse=True)\n",
    "\n",
    "    # Get the scores of the 10 most similar movies\n",
    "    sim_scores = sim_scores[1:11]\n",
    "\n",
    "    # Get the movie indices\n",
    "    movie_indices = [i[0] for i in sim_scores]\n",
    "\n",
    "    # Return the top 10 most similar movies\n",
    "    return movies[['title', 'imdb_id']].iloc[movie_indices]"
   ]
  },
  {
   "cell_type": "code",
   "execution_count": 21,
   "id": "375208ba",
   "metadata": {},
   "outputs": [],
   "source": [
    "import ast\n",
    "\n",
    "# Converts json field to list of values\n",
    "def convert_json_column(df, column_name):\n",
    "    return df[column_name].\\\n",
    "               apply(ast.literal_eval).\\\n",
    "               apply(lambda x: [a['name'] for a in x]).\\\n",
    "               apply(lambda x: ','.join(x))"
   ]
  },
  {
   "cell_type": "code",
   "execution_count": 27,
   "id": "5e7f17cd",
   "metadata": {},
   "outputs": [
    {
     "data": {
      "text/plain": [
       "0                Animation,Comedy,Family\n",
       "1               Adventure,Fantasy,Family\n",
       "2                         Romance,Comedy\n",
       "3                   Comedy,Drama,Romance\n",
       "4                                 Comedy\n",
       "                      ...               \n",
       "15292    Family,Animation,Romance,Comedy\n",
       "15293                             Comedy\n",
       "15294     Comedy,Fantasy,Science Fiction\n",
       "15295            Fantasy,Action,Thriller\n",
       "15296               Drama,Action,Romance\n",
       "Name: genres, Length: 15297, dtype: object"
      ]
     },
     "execution_count": 27,
     "metadata": {},
     "output_type": "execute_result"
    }
   ],
   "source": [
    "convert_json_column(movies,'genres')"
   ]
  },
  {
   "cell_type": "markdown",
   "id": "ec0dc8e2",
   "metadata": {},
   "source": [
    "## Using overviews with keywords"
   ]
  },
  {
   "cell_type": "code",
   "execution_count": 42,
   "id": "29ffa884",
   "metadata": {},
   "outputs": [],
   "source": [
    "# Convert json field to comma separated keywords\n",
    "movies['keywords'] = convert_json_column(movies, 'keywords')"
   ]
  },
  {
   "cell_type": "code",
   "execution_count": 8,
   "id": "3ac2d8dc",
   "metadata": {},
   "outputs": [],
   "source": [
    "# TfIdf keywords column\n",
    "tfidf = TfidfVectorizer(stop_words='english')\n",
    "tfidf_keywords = tfidf.fit_transform(movies['keywords'])"
   ]
  },
  {
   "cell_type": "code",
   "execution_count": 9,
   "id": "0fa20f4b",
   "metadata": {},
   "outputs": [],
   "source": [
    "# Concat keywords and overview tfidf matrices\n",
    "tfidf_matrix = hstack([tfidf_keywords, tfidf_overview])"
   ]
  },
  {
   "cell_type": "code",
   "execution_count": 10,
   "id": "c132243e",
   "metadata": {},
   "outputs": [],
   "source": [
    "# Calculate similarity between all movie pairs\n",
    "cosine_sim = kernel(tfidf_matrix, tfidf_matrix)"
   ]
  },
  {
   "cell_type": "code",
   "execution_count": 14,
   "id": "bf05d9ca",
   "metadata": {},
   "outputs": [
    {
     "data": {
      "text/plain": [
       "array([[2.        , 0.04558618, 0.        , ..., 0.        , 0.        ,\n",
       "        0.        ],\n",
       "       [0.04558618, 2.        , 0.04794193, ..., 0.01503772, 0.        ,\n",
       "        0.        ],\n",
       "       [0.        , 0.04794193, 2.        , ..., 0.01570995, 0.        ,\n",
       "        0.        ],\n",
       "       ...,\n",
       "       [0.        , 0.01503772, 0.01570995, ..., 2.        , 0.        ,\n",
       "        0.        ],\n",
       "       [0.        , 0.        , 0.        , ..., 0.        , 1.        ,\n",
       "        0.        ],\n",
       "       [0.        , 0.        , 0.        , ..., 0.        , 0.        ,\n",
       "        1.        ]])"
      ]
     },
     "execution_count": 14,
     "metadata": {},
     "output_type": "execute_result"
    }
   ],
   "source": [
    "cosine_sim"
   ]
  },
  {
   "cell_type": "code",
   "execution_count": 45,
   "id": "8b0806b9",
   "metadata": {},
   "outputs": [
    {
     "data": {
      "text/html": [
       "<div>\n",
       "<style scoped>\n",
       "    .dataframe tbody tr th:only-of-type {\n",
       "        vertical-align: middle;\n",
       "    }\n",
       "\n",
       "    .dataframe tbody tr th {\n",
       "        vertical-align: top;\n",
       "    }\n",
       "\n",
       "    .dataframe thead th {\n",
       "        text-align: right;\n",
       "    }\n",
       "</style>\n",
       "<table border=\"1\" class=\"dataframe\">\n",
       "  <thead>\n",
       "    <tr style=\"text-align: right;\">\n",
       "      <th></th>\n",
       "      <th>title</th>\n",
       "      <th>imdb_id</th>\n",
       "    </tr>\n",
       "  </thead>\n",
       "  <tbody>\n",
       "    <tr>\n",
       "      <th>8613</th>\n",
       "      <td>Toy Story 3</td>\n",
       "      <td>tt0435761</td>\n",
       "    </tr>\n",
       "    <tr>\n",
       "      <th>2054</th>\n",
       "      <td>Toy Story 2</td>\n",
       "      <td>tt0120363</td>\n",
       "    </tr>\n",
       "    <tr>\n",
       "      <th>11798</th>\n",
       "      <td>Toy Story That Time Forgot</td>\n",
       "      <td>tt3473654</td>\n",
       "    </tr>\n",
       "    <tr>\n",
       "      <th>12506</th>\n",
       "      <td>Barbie and the Three Musketeers</td>\n",
       "      <td>tt1484922</td>\n",
       "    </tr>\n",
       "    <tr>\n",
       "      <th>1183</th>\n",
       "      <td>Small Soldiers</td>\n",
       "      <td>tt0122718</td>\n",
       "    </tr>\n",
       "    <tr>\n",
       "      <th>4852</th>\n",
       "      <td>Dolls</td>\n",
       "      <td>tt0092906</td>\n",
       "    </tr>\n",
       "    <tr>\n",
       "      <th>1247</th>\n",
       "      <td>Child's Play</td>\n",
       "      <td>tt0094862</td>\n",
       "    </tr>\n",
       "    <tr>\n",
       "      <th>1441</th>\n",
       "      <td>Toys</td>\n",
       "      <td>tt0105629</td>\n",
       "    </tr>\n",
       "    <tr>\n",
       "      <th>11472</th>\n",
       "      <td>Small Fry</td>\n",
       "      <td>tt2033372</td>\n",
       "    </tr>\n",
       "    <tr>\n",
       "      <th>11470</th>\n",
       "      <td>Hawaiian Vacation</td>\n",
       "      <td>tt1850374</td>\n",
       "    </tr>\n",
       "  </tbody>\n",
       "</table>\n",
       "</div>"
      ],
      "text/plain": [
       "                                 title    imdb_id\n",
       "8613                       Toy Story 3  tt0435761\n",
       "2054                       Toy Story 2  tt0120363\n",
       "11798       Toy Story That Time Forgot  tt3473654\n",
       "12506  Barbie and the Three Musketeers  tt1484922\n",
       "1183                    Small Soldiers  tt0122718\n",
       "4852                             Dolls  tt0092906\n",
       "1247                      Child's Play  tt0094862\n",
       "1441                              Toys  tt0105629\n",
       "11472                        Small Fry  tt2033372\n",
       "11470                Hawaiian Vacation  tt1850374"
      ]
     },
     "execution_count": 45,
     "metadata": {},
     "output_type": "execute_result"
    }
   ],
   "source": [
    "get_recommendations('Toy Story', cosine_sim)"
   ]
  }
 ],
 "metadata": {
  "kernelspec": {
   "display_name": "Python 3",
   "language": "python",
   "name": "python3"
  },
  "language_info": {
   "codemirror_mode": {
    "name": "ipython",
    "version": 3
   },
   "file_extension": ".py",
   "mimetype": "text/x-python",
   "name": "python",
   "nbconvert_exporter": "python",
   "pygments_lexer": "ipython3",
   "version": "3.8.8"
  }
 },
 "nbformat": 4,
 "nbformat_minor": 5
}
